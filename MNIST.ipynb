{
 "cells": [
  {
   "cell_type": "code",
   "execution_count": 1,
   "id": "77aab7b3",
   "metadata": {},
   "outputs": [],
   "source": [
    "import numpy as np\n",
    "import matplotlib.pyplot as plt\n",
    "import tensorflow as tf\n",
    "tf.compat.v1.disable_eager_execution()"
   ]
  },
  {
   "cell_type": "code",
   "execution_count": 2,
   "id": "09018505",
   "metadata": {},
   "outputs": [
    {
     "name": "stdout",
     "output_type": "stream",
     "text": [
      "Requirement already satisfied: adversarial-robustness-toolbox in c:\\users\\tanvir\\appdata\\roaming\\python\\python37\\site-packages (1.7.1)\n",
      "Requirement already satisfied: numba~=0.53.1 in c:\\users\\tanvir\\appdata\\roaming\\python\\python37\\site-packages (from adversarial-robustness-toolbox) (0.53.1)\n",
      "Requirement already satisfied: scikit-learn<0.24.3,>=0.22.2 in c:\\users\\tanvir\\appdata\\roaming\\python\\python37\\site-packages (from adversarial-robustness-toolbox) (0.24.2)\n",
      "Requirement already satisfied: scipy>=1.4.1 in c:\\users\\tanvir\\anaconda3\\lib\\site-packages (from adversarial-robustness-toolbox) (1.6.2)\n",
      "Requirement already satisfied: six in c:\\users\\tanvir\\anaconda3\\lib\\site-packages (from adversarial-robustness-toolbox) (1.16.0)\n",
      "Requirement already satisfied: tqdm in c:\\users\\tanvir\\anaconda3\\lib\\site-packages (from adversarial-robustness-toolbox) (4.62.0)\n",
      "Requirement already satisfied: numpy>=1.18.0 in c:\\users\\tanvir\\anaconda3\\lib\\site-packages (from adversarial-robustness-toolbox) (1.20.3)\n",
      "Requirement already satisfied: setuptools in c:\\users\\tanvir\\anaconda3\\lib\\site-packages (from adversarial-robustness-toolbox) (52.0.0.post20210125)\n",
      "Requirement already satisfied: llvmlite<0.37,>=0.36.0rc1 in c:\\users\\tanvir\\appdata\\roaming\\python\\python37\\site-packages (from numba~=0.53.1->adversarial-robustness-toolbox) (0.36.0)\n",
      "Requirement already satisfied: joblib>=0.11 in c:\\users\\tanvir\\anaconda3\\lib\\site-packages (from scikit-learn<0.24.3,>=0.22.2->adversarial-robustness-toolbox) (1.0.1)\n",
      "Requirement already satisfied: threadpoolctl>=2.0.0 in c:\\users\\tanvir\\appdata\\roaming\\python\\python37\\site-packages (from scikit-learn<0.24.3,>=0.22.2->adversarial-robustness-toolbox) (2.2.0)\n",
      "Requirement already satisfied: colorama in c:\\users\\tanvir\\anaconda3\\lib\\site-packages (from tqdm->adversarial-robustness-toolbox) (0.4.4)\n"
     ]
    },
    {
     "name": "stderr",
     "output_type": "stream",
     "text": [
      "WARNING: Ignoring invalid distribution -rotobuf (c:\\users\\tanvir\\anaconda3\\lib\\site-packages)\n",
      "WARNING: Ignoring invalid distribution -rotobuf (c:\\users\\tanvir\\anaconda3\\lib\\site-packages)\n",
      "WARNING: Ignoring invalid distribution -rotobuf (c:\\users\\tanvir\\anaconda3\\lib\\site-packages)\n",
      "WARNING: Ignoring invalid distribution -rotobuf (c:\\users\\tanvir\\anaconda3\\lib\\site-packages)\n",
      "WARNING: Ignoring invalid distribution -rotobuf (c:\\users\\tanvir\\anaconda3\\lib\\site-packages)\n",
      "WARNING: Ignoring invalid distribution -rotobuf (c:\\users\\tanvir\\anaconda3\\lib\\site-packages)\n"
     ]
    }
   ],
   "source": [
    "!pip install adversarial-robustness-toolbox\n",
    "\n",
    "from art.attacks.inference import model_inversion \n",
    "from art.estimators.classification import KerasClassifier"
   ]
  },
  {
   "cell_type": "code",
   "execution_count": 3,
   "id": "f4e9b822",
   "metadata": {},
   "outputs": [],
   "source": [
    "from art.attacks.inference import model_inversion \n",
    "from art.estimators.classification import KerasClassifier"
   ]
  },
  {
   "cell_type": "code",
   "execution_count": 4,
   "id": "70c3b444",
   "metadata": {},
   "outputs": [],
   "source": [
    "def load_mnist():\n",
    "  \"\"\"Loads MNIST-Dataset and preprocesses to combine training and test data.\"\"\"\n",
    "  \n",
    "  # load the existing MNIST digit dataset that comes in form of traing + test data and labels\n",
    "  train, test = tf.keras.datasets.mnist.load_data()\n",
    "  train_data, train_labels = train\n",
    "  test_data, test_labels = test\n",
    "\n",
    "  # scale the images from color values 0-255 to numbers from 0-1 to help the training process\n",
    "  train_data = np.array(train_data, dtype=np.float32) / 255\n",
    "  test_data = np.array(test_data, dtype=np.float32) / 255\n",
    "\n",
    "  # convolutional layers expect images to have 3 dimensions (width, height, depth)\n",
    "  # in color images the depth is 3 for the RGB channels\n",
    "  # MNIST is grayscale and hence originally does not need a third dimension\n",
    "  # so we need to artificially add it\n",
    "  train_data = train_data.reshape(train_data.shape[0], 28, 28, 1)\n",
    "  test_data = test_data.reshape(test_data.shape[0], 28, 28, 1)\n",
    "  return train_data, train_labels, test_data, test_labels\n",
    " "
   ]
  },
  {
   "cell_type": "code",
   "execution_count": 5,
   "id": "fc8bfd35",
   "metadata": {},
   "outputs": [],
   "source": [
    "def make_model():\n",
    "  # Define a Keras model\n",
    "  model = tf.keras.Sequential([\n",
    "      tf.keras.layers.Conv2D(32, kernel_size=(3, 3), activation='relu', input_shape=(28,28,1)),\n",
    "      tf.keras.layers.MaxPooling2D(pool_size=(2, 2)),\n",
    "      tf.keras.layers.Conv2D(64, kernel_size=(3,3),activation='relu'),\n",
    "      tf.keras.layers.MaxPooling2D(pool_size=(2, 2)),\n",
    "      tf.keras.layers.Flatten(),\n",
    "      tf.keras.layers.Dense(128, activation='relu'),\n",
    "      tf.keras.layers.Dense(10, activation='softmax')\n",
    "  ])\n",
    "  return model"
   ]
  },
  {
   "cell_type": "code",
   "execution_count": 6,
   "id": "e0a96bef",
   "metadata": {},
   "outputs": [],
   "source": [
    "train_data, train_labels, test_data, test_labels = load_mnist()"
   ]
  },
  {
   "cell_type": "code",
   "execution_count": 7,
   "id": "66ab30c4",
   "metadata": {},
   "outputs": [
    {
     "name": "stdout",
     "output_type": "stream",
     "text": [
      "Model: \"sequential\"\n",
      "_________________________________________________________________\n",
      "Layer (type)                 Output Shape              Param #   \n",
      "=================================================================\n",
      "conv2d (Conv2D)              (None, 26, 26, 32)        320       \n",
      "_________________________________________________________________\n",
      "max_pooling2d (MaxPooling2D) (None, 13, 13, 32)        0         \n",
      "_________________________________________________________________\n",
      "conv2d_1 (Conv2D)            (None, 11, 11, 64)        18496     \n",
      "_________________________________________________________________\n",
      "max_pooling2d_1 (MaxPooling2 (None, 5, 5, 64)          0         \n",
      "_________________________________________________________________\n",
      "flatten (Flatten)            (None, 1600)              0         \n",
      "_________________________________________________________________\n",
      "dense (Dense)                (None, 128)               204928    \n",
      "_________________________________________________________________\n",
      "dense_1 (Dense)              (None, 10)                1290      \n",
      "=================================================================\n",
      "Total params: 225,034\n",
      "Trainable params: 225,034\n",
      "Non-trainable params: 0\n",
      "_________________________________________________________________\n"
     ]
    }
   ],
   "source": [
    "# make the neural network model with the function specified above. then look at it\n",
    "model = make_model()\n",
    "model.summary()"
   ]
  },
  {
   "cell_type": "code",
   "execution_count": 8,
   "id": "1f68ab0a",
   "metadata": {},
   "outputs": [],
   "source": [
    "# specify hyperparameters\n",
    "optimizer = tf.keras.optimizers.SGD(learning_rate=0.1)\n",
    "loss = tf.keras.losses.SparseCategoricalCrossentropy(from_logits=True)\n",
    "\n",
    "# compile the model\n",
    "model.compile(optimizer=optimizer, loss=loss, metrics=['accuracy'])\n",
    "\n",
    "# convert keras model to ART model\n",
    "classifier = KerasClassifier(model=model, clip_values=(0, 1), use_logits=False)"
   ]
  },
  {
   "cell_type": "code",
   "execution_count": 9,
   "id": "0d33f4c0",
   "metadata": {},
   "outputs": [
    {
     "name": "stdout",
     "output_type": "stream",
     "text": [
      "Train on 60000 samples\n",
      "Epoch 1/5\n",
      "60000/60000 [==============================] - 13s 217us/sample - loss: 0.5846 - accuracy: 0.8267\n",
      "Epoch 2/5\n",
      "60000/60000 [==============================] - 5s 91us/sample - loss: 0.1325 - accuracy: 0.9596\n",
      "Epoch 3/5\n",
      "60000/60000 [==============================] - 5s 91us/sample - loss: 0.0921 - accuracy: 0.9724\n",
      "Epoch 4/5\n",
      "60000/60000 [==============================] - 5s 92us/sample - loss: 0.0727 - accuracy: 0.9775\n",
      "Epoch 5/5\n",
      "60000/60000 [==============================] - 6s 93us/sample - loss: 0.0604 - accuracy: 0.9814\n"
     ]
    }
   ],
   "source": [
    "# train the model\n",
    "history = classifier.fit(train_data, train_labels,\n",
    "           batch_size=264, nb_epochs=5)"
   ]
  },
  {
   "cell_type": "code",
   "execution_count": 10,
   "id": "3552cc77",
   "metadata": {},
   "outputs": [
    {
     "data": {
      "text/plain": [
       "array([0, 1, 2, 3, 4, 5, 6, 7, 8, 9])"
      ]
     },
     "execution_count": 10,
     "metadata": {},
     "output_type": "execute_result"
    }
   ],
   "source": [
    "# create an array of the classes to be attacked\n",
    "y_all = np.arange(10)\n",
    "y_all"
   ]
  },
  {
   "cell_type": "code",
   "execution_count": 11,
   "id": "dfa824d5",
   "metadata": {},
   "outputs": [
    {
     "data": {
      "application/vnd.jupyter.widget-view+json": {
       "model_id": "683e6dbc1e87420ea498ffbb27bc37e0",
       "version_major": 2,
       "version_minor": 0
      },
      "text/plain": [
       "Model inversion:   0%|          | 0/10 [00:00<?, ?it/s]"
      ]
     },
     "metadata": {},
     "output_type": "display_data"
    },
    {
     "name": "stderr",
     "output_type": "stream",
     "text": [
      "C:\\Users\\Tanvir\\AppData\\Roaming\\Python\\Python37\\site-packages\\tensorflow\\python\\keras\\engine\\training.py:2325: UserWarning: `Model.state_updates` will be removed in a future version. This property should not be used in TensorFlow 2.0, as `updates` are applied automatically.\n",
      "  warnings.warn('`Model.state_updates` will be removed in a future version. '\n"
     ]
    }
   ],
   "source": [
    "# create the attack object\n",
    "my_attack = model_inversion.MIFace(classifier)\n",
    "\n",
    "# average scale color initialization\n",
    "x_init_average = np.zeros((10, 28, 28, 1)) + np.mean(test_data, axis=0)\n",
    "inferred_images = my_attack.infer(x_init_average,y=y_all)"
   ]
  },
  {
   "cell_type": "code",
   "execution_count": 110,
   "id": "6194bcdc",
   "metadata": {},
   "outputs": [
    {
     "data": {
      "text/plain": [
       "(10, 28, 28, 1)"
      ]
     },
     "execution_count": 110,
     "metadata": {},
     "output_type": "execute_result"
    }
   ],
   "source": [
    "inferred_images.shape"
   ]
  },
  {
   "cell_type": "code",
   "execution_count": 111,
   "id": "961484ea",
   "metadata": {},
   "outputs": [
    {
     "data": {
      "image/png": "[encoded data removed]",
      "text/plain": [
       "<Figure size 750x400 with 10 Axes>"
      ]
     },
     "metadata": {},
     "output_type": "display_data"
    }
   ],
   "source": [
    "# plot the inverted class representations\n",
    "num_row = 2\n",
    "num_col = 5\n",
    "fig, axes = plt.subplots(num_row, num_col, figsize=(1.5*num_col,2*num_row))\n",
    "for i in range(10):\n",
    "    ax = axes[i//num_col, i%num_col]\n",
    "    ax.set_axis_off()\n",
    "    ax.imshow(inferred_images[i,:,:,:].reshape(28,28), cmap='gray')\n",
    "    ax.set_title('Label: {}'.format(y_all[i]))\n",
    "\n",
    "plt.tight_layout()\n",
    "plt.show()"
   ]
  },
  {
   "cell_type": "code",
   "execution_count": 11,
   "id": "d151e0a9",
   "metadata": {},
   "outputs": [
    {
     "data": {
      "application/vnd.jupyter.widget-view+json": {
       "model_id": "8f73fb001b0f4760935babb989bb839b",
       "version_major": 2,
       "version_minor": 0
      },
      "text/plain": [
       "Model inversion:   0%|          | 0/10 [00:00<?, ?it/s]"
      ]
     },
     "metadata": {},
     "output_type": "display_data"
    },
    {
     "name": "stderr",
     "output_type": "stream",
     "text": [
      "C:\\Users\\Tanvir\\AppData\\Roaming\\Python\\Python37\\site-packages\\tensorflow\\python\\keras\\engine\\training.py:2325: UserWarning: `Model.state_updates` will be removed in a future version. This property should not be used in TensorFlow 2.0, as `updates` are applied automatically.\n",
      "  warnings.warn('`Model.state_updates` will be removed in a future version. '\n"
     ]
    }
   ],
   "source": [
    "# create the attack object\n",
    "my_attack = model_inversion.MIFace(classifier)\n",
    "\n",
    "# We will experiment with a number of different initializations:\n",
    "\n",
    "# gray scale color initialization\n",
    "x_init_grey = np.zeros((10, 28, 28, 1)) + 0.5\n",
    "inferred_images = my_attack.infer(x_init_grey,y=y_all)"
   ]
  },
  {
   "cell_type": "code",
   "execution_count": 12,
   "id": "9a90b9fe",
   "metadata": {},
   "outputs": [
    {
     "data": {
      "image/png": "[encoded data removed]",
      "text/plain": [
       "<Figure size 750x400 with 10 Axes>"
      ]
     },
     "metadata": {},
     "output_type": "display_data"
    }
   ],
   "source": [
    "# plot the inverted class representations\n",
    "num_row = 2\n",
    "num_col = 5\n",
    "fig, axes = plt.subplots(num_row, num_col, figsize=(1.5*num_col,2*num_row))\n",
    "for i in range(10):\n",
    "    ax = axes[i//num_col, i%num_col]\n",
    "    ax.set_axis_off()\n",
    "    ax.imshow(inferred_images[i,:,:,:].reshape(28,28), cmap='gray')\n",
    "    ax.set_title('Label: {}'.format(y_all[i]))\n",
    "\n",
    "plt.tight_layout()\n",
    "plt.show()"
   ]
  },
  {
   "cell_type": "code",
   "execution_count": null,
   "id": "cf01cc5c",
   "metadata": {},
   "outputs": [],
   "source": []
  }
 ],
 "metadata": {
  "kernelspec": {
   "display_name": "Python 3",
   "language": "python",
   "name": "python3"
  },
  "language_info": {
   "codemirror_mode": {
    "name": "ipython",
    "version": 3
   },
   "file_extension": ".py",
   "mimetype": "text/x-python",
   "name": "python",
   "nbconvert_exporter": "python",
   "pygments_lexer": "ipython3",
   "version": "3.7.11"
  }
 },
 "nbformat": 4,
 "nbformat_minor": 5
}
